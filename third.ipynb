{
 "cells": [
  {
   "cell_type": "code",
   "execution_count": null,
   "metadata": {},
   "outputs": [],
   "source": [
    "import requests\n",
    "from bs4 import BeautifulSoup\n",
    "\n",
    "url = 'https://www.fool.com/investing-news'\n",
    "\n",
    "response = requests.get(url)\n",
    "if response.status_code == 200:\n",
    "    content = response.content\n",
    "    soup = BeautifulSoup(content, 'html.parser')\n",
    "    content_block = soup.find_all(\"a\", {'class': 'text-gray-1100', 'href': lambda href: href and href.startswith('/investing/')})\n",
    "    listofurls = []\n",
    "    for block in content_block:\n",
    "        listofurls.append(\"https://www.fool.com\" + block['href'])\n",
    "#         a = block.find('a', href=True)\n",
    "#         if a is not None:\n",
    "#             listofurls.append('https://www.fool.com'+str(a['href']))\n",
    "    print(listofurls)\n",
    "else:\n",
    "    print('Failed to retrieve the page')\n"
   ]
  }
 ],
 "metadata": {
  "kernelspec": {
   "display_name": "Python 3",
   "language": "python",
   "name": "python3"
  },
  "language_info": {
   "codemirror_mode": {
    "name": "ipython",
    "version": 3
   },
   "file_extension": ".py",
   "mimetype": "text/x-python",
   "name": "python",
   "nbconvert_exporter": "python",
   "pygments_lexer": "ipython3",
   "version": "3.6.10"
  }
 },
 "nbformat": 4,
 "nbformat_minor": 4
}
